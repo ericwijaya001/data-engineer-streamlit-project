{
 "cells": [
  {
   "cell_type": "code",
   "execution_count": null,
   "metadata": {},
   "outputs": [],
   "source": [
    "import streamlit as st\n",
    "import pandas as pd\n",
    "import numpy as np"
   ]
  }
 ],
 "metadata": {
  "kernelspec": {
   "display_name": "Python 3.7.5 64-bit",
   "language": "python",
   "name": "python3"
  },
  "language_info": {
   "name": "python",
   "version": "3.7.5"
  },
  "orig_nbformat": 4,
  "vscode": {
   "interpreter": {
    "hash": "4fe6abc4433d5ec4f08d70d261866f6260f52d4f67fd1cf836ca9ed46dcfa6fa"
   }
  }
 },
 "nbformat": 4,
 "nbformat_minor": 2
}
